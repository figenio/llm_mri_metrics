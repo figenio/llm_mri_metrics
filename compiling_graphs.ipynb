{
 "cells": [
  {
   "cell_type": "code",
   "execution_count": 1,
   "id": "cf44f9e5-a505-4562-b8e0-e337dd4cb8f1",
   "metadata": {
    "editable": true,
    "slideshow": {
     "slide_type": ""
    },
    "tags": []
   },
   "outputs": [
    {
     "name": "stderr",
     "output_type": "stream",
     "text": [
      "/home/figenio/Projetos/data_science/experimentacao/graph_experimenting/venv/lib/python3.12/site-packages/tqdm/auto.py:21: TqdmWarning: IProgress not found. Please update jupyter and ipywidgets. See https://ipywidgets.readthedocs.io/en/stable/user_install.html\n",
      "  from .autonotebook import tqdm as notebook_tqdm\n"
     ]
    }
   ],
   "source": [
    "from datasets import Dataset, load_dataset, features, ClassLabel, load_from_disk\n",
    "\n",
    "import pandas as pd\n",
    "import numpy as np\n",
    "import scipy.stats as stats\n",
    "import researchpy as rp\n",
    "from itertools import chain\n",
    "\n",
    "import networkx as nx\n",
    "import community as community_louvain\n",
    "from networkx.algorithms.community import k_clique_communities\n",
    "from networkx.algorithms import bipartite\n",
    "\n",
    "import seaborn as sns\n",
    "import matplotlib.pyplot as plt\n",
    "import pydot\n",
    "from networkx.drawing.nx_pydot import graphviz_layout\n",
    "\n",
    "from llm_mri import LLM_MRI"
   ]
  },
  {
   "cell_type": "markdown",
   "id": "500869e5-845d-4060-90dd-62ff370f0655",
   "metadata": {},
   "source": [
    "# Carregando os dados e dividindo classes"
   ]
  },
  {
   "cell_type": "code",
   "execution_count": 2,
   "id": "41e52001-5881-4431-9acd-fa47956f4f28",
   "metadata": {},
   "outputs": [
    {
     "name": "stdout",
     "output_type": "stream",
     "text": [
      "Top quantil: 6.0\n",
      "Botton quantil: 4.0\n",
      "All columns ['annotation id', 'original', 'traducao', 'organization level', 'global score', 'auto', 'label']\n",
      "top: 88\n",
      "botton: 104\n",
      "TOTAL: 435\n"
     ]
    },
    {
     "data": {
      "text/html": [
       "<div>\n",
       "<style scoped>\n",
       "    .dataframe tbody tr th:only-of-type {\n",
       "        vertical-align: middle;\n",
       "    }\n",
       "\n",
       "    .dataframe tbody tr th {\n",
       "        vertical-align: top;\n",
       "    }\n",
       "\n",
       "    .dataframe thead th {\n",
       "        text-align: right;\n",
       "    }\n",
       "</style>\n",
       "<table border=\"1\" class=\"dataframe\">\n",
       "  <thead>\n",
       "    <tr style=\"text-align: right;\">\n",
       "      <th></th>\n",
       "      <th>text</th>\n",
       "      <th>label</th>\n",
       "    </tr>\n",
       "  </thead>\n",
       "  <tbody>\n",
       "    <tr>\n",
       "      <th>0</th>\n",
       "      <td>A doença pulmonar obstrutiva crônica afeta a r...</td>\n",
       "      <td>botton</td>\n",
       "    </tr>\n",
       "    <tr>\n",
       "      <th>1</th>\n",
       "      <td>A doença pulmonar obstrutiva crônica dificulta...</td>\n",
       "      <td>botton</td>\n",
       "    </tr>\n",
       "    <tr>\n",
       "      <th>2</th>\n",
       "      <td>A doença obstrutiav pulomonar esta relacionada...</td>\n",
       "      <td>mid</td>\n",
       "    </tr>\n",
       "    <tr>\n",
       "      <th>3</th>\n",
       "      <td>A doença pulmonar obstrutiva crônica ou DPOC o...</td>\n",
       "      <td>botton</td>\n",
       "    </tr>\n",
       "    <tr>\n",
       "      <th>4</th>\n",
       "      <td>DPOC reduz fluxo aéreo, perda da elastância, a...</td>\n",
       "      <td>botton</td>\n",
       "    </tr>\n",
       "  </tbody>\n",
       "</table>\n",
       "</div>"
      ],
      "text/plain": [
       "                                                text   label\n",
       "0  A doença pulmonar obstrutiva crônica afeta a r...  botton\n",
       "1  A doença pulmonar obstrutiva crônica dificulta...  botton\n",
       "2  A doença obstrutiav pulomonar esta relacionada...     mid\n",
       "3  A doença pulmonar obstrutiva crônica ou DPOC o...  botton\n",
       "4  DPOC reduz fluxo aéreo, perda da elastância, a...  botton"
      ]
     },
     "execution_count": 2,
     "metadata": {},
     "output_type": "execute_result"
    },
    {
     "data": {
      "image/png": "[encoded data removed]",
      "text/plain": [
       "<Figure size 640x480 with 1 Axes>"
      ]
     },
     "metadata": {},
     "output_type": "display_data"
    }
   ],
   "source": [
    "def label_answer(row, score, botton_quantile, top_quantile):\n",
    "    if (row[score] < botton_quantile):\n",
    "        return 'botton'\n",
    "    elif (row[score] > top_quantile):\n",
    "        return 'top'\n",
    "    else:\n",
    "        return 'mid'\n",
    "        \n",
    "# exp = \"iam\"\n",
    "exp = \"dpoc\"\n",
    "lang = \"_pt\"\n",
    "# lang = \"_en\"\n",
    "if \"pt\" in lang:\n",
    "    text_column = 'original'\n",
    "else:\n",
    "    text_column = 'auto'\n",
    "    \n",
    "df_traducao = pd.read_csv('data/experimento_consolidado_' + exp + '.csv')\n",
    "\n",
    "score = 'global score'#organization_level,global_score\n",
    "quantile = .3\n",
    "\n",
    "print(\"Top quantil:\", df_traducao[score].quantile(1 - quantile))\n",
    "print(\"Botton quantil:\", df_traducao[score].quantile(quantile))\n",
    "\n",
    "#df_traducao[score].hist()\n",
    "\n",
    "df_traducao['label'] = df_traducao.apply(\n",
    "    label_answer,\n",
    "    axis=1,\n",
    "    score=score,\n",
    "    botton_quantile=df_traducao[score].quantile(quantile),\n",
    "    top_quantile=df_traducao[score].quantile(1 - quantile),\n",
    ")\n",
    "\n",
    "columns_to_remove = list(df_traducao.columns)\n",
    "print(\"All columns\", columns_to_remove)\n",
    "\n",
    "columns_to_remove.remove(text_column)\n",
    "columns_to_remove.remove('label')\n",
    "\n",
    "df_data = df_traducao.rename(columns={text_column: 'text'}).drop(columns=columns_to_remove).reset_index(drop=True)\n",
    "\n",
    "\n",
    "df_data['label'].hist()\n",
    "# df_data = df_data.drop(df_data[df_data['label'] == \"mid\"].index).reset_index(drop=True)\n",
    "print(\"top:\", df_data['label'].loc[df_data['label'] == \"top\"].count())\n",
    "print(\"botton:\", df_data['label'].loc[df_data['label'] == \"botton\"].count())\n",
    "print(\"TOTAL:\", df_data['label'].count())\n",
    "df_data.head()\n"
   ]
  },
  {
   "cell_type": "markdown",
   "id": "0752e9f3-e1f7-401c-8119-66d822ead646",
   "metadata": {},
   "source": [
    "# Passando os Dados para o Módulo\n",
    "\n",
    "- converte o Dataframe para Dataset;\n",
    "- carrega o modelo e os dados no módulo;\n",
    "- processa as ativações;"
   ]
  },
  {
   "cell_type": "code",
   "execution_count": 3,
   "id": "820424fd-1bad-4f2e-a52c-1a9c6b237fa9",
   "metadata": {},
   "outputs": [
    {
     "name": "stderr",
     "output_type": "stream",
     "text": [
      "Map: 100%|██████████████████████████| 435/435 [00:00<00:00, 21509.76 examples/s]\n",
      "Casting the dataset: 100%|█████████| 435/435 [00:00<00:00, 156302.77 examples/s]\n"
     ]
    }
   ],
   "source": [
    "subset = Dataset.from_pandas(df_data)\n",
    "subset.cleanup_cache_files()\n",
    "\n",
    "label_feature = subset.features['label']\n",
    "class_names  = subset.unique(\"label\")\n",
    "\n",
    "class_feature = features.ClassLabel(names=sorted(class_names))\n",
    "subset = subset.map(lambda str_value: {\"label\": class_feature.str2int(str_value)}, input_columns=\"label\")\n",
    "\n",
    "subset = subset.cast(features.Features({\n",
    "    \"label\": class_feature,\n",
    "    \"text\": subset.features[\"text\"]}))"
   ]
  },
  {
   "cell_type": "markdown",
   "id": "1c3a17cb-2ead-4275-a579-c45390a9fa1d",
   "metadata": {},
   "source": [
    "# Analisando Ativações do Grafo"
   ]
  },
  {
   "cell_type": "code",
   "execution_count": 4,
   "id": "3ea04865-0b93-4d4b-9ca9-dcf4954f444f",
   "metadata": {},
   "outputs": [
    {
     "name": "stdout",
     "output_type": "stream",
     "text": [
      "Loading: neuralmind/bert-base-portuguese-cased  -  25  -  12\n"
     ]
    },
    {
     "name": "stderr",
     "output_type": "stream",
     "text": [
      "/home/figenio/Projetos/data_science/experimentacao/graph_experimenting/venv/lib/python3.12/site-packages/transformers/tokenization_utils_base.py:1601: FutureWarning: `clean_up_tokenization_spaces` was not set. It will be set to `True` by default. This behavior will be depracted in transformers v4.45, and will be then set to `False` by default. For more details check this issue: https://github.com/huggingface/transformers/issues/31884\n",
      "  warnings.warn(\n",
      "Map: 100%|███████████████████████████| 435/435 [00:00<00:00, 4529.50 examples/s]\n",
      "Map: 100%|█████████████████████████████| 435/435 [02:45<00:00,  2.63 examples/s]\n"
     ]
    },
    {
     "name": "stdout",
     "output_type": "stream",
     "text": [
      "Salvo grafo top\n",
      "Salvo grafo botton\n",
      "Salvo grafo composed\n"
     ]
    }
   ],
   "source": [
    "# Já foram 10:[0,1,2,3,4]\n",
    "# Já foram 20:[0,1,2]\n",
    "\n",
    "models = { \n",
    "    # \"nlpie/tiny-clinicalbert\": 4,          \n",
    "    # \"distilbert-base-uncased\": 6,\n",
    "    # \"google-bert/bert-base-uncased\": 12,\n",
    "    # \"emilyalsentzer/Bio_ClinicalBERT\": 12,\n",
    "    # \"google-bert/bert-large-uncased\": 24,\n",
    "\n",
    "    \"neuralmind/bert-base-portuguese-cased\": 12, # 110M\n",
    "    # \"pucpr/biobertpt-all\": 12, # 110M\n",
    "    # \"google-bert/bert-base-multilingual-cased\": 12, # 110M\n",
    "    # \"neuralmind/bert-large-portuguese-cased\": 24, # 330M\n",
    "    \n",
    "    # \"openai-community/gpt2\": 12,\n",
    "    # \"openai-community/gpt2-large\": 36\n",
    "    # \"FacebookAI/xlm-roberta-large\": 24,\n",
    "    # \"facebook/xlm-roberta-xl\": 36,          # 3.48B\n",
    "\n",
    "    \n",
    "    # \"pierreguillou/gpt2-small-portuguese\": 12, # 1.5B\n",
    "    # \"pucpr/gpt2-bio-pt\": 12, # 1.5B\n",
    "}\n",
    "map_dimensions = [\n",
    "    # 5,\n",
    "    # 10,\n",
    "    25\n",
    "]\n",
    "\n",
    "for model_name, number_of_layers in models.items():\n",
    "    for dimension in map_dimensions:\n",
    "        print(\"Loading:\", model_name, \" - \", dimension, \" - \", number_of_layers)\n",
    "        llm_mri = LLM_MRI(model=model_name, device=\"cpu\", dataset=subset)\n",
    "        llm_mri.process_activation_areas(map_dimension = dimension)\n",
    "\n",
    "        # Gera, atribui camadas e escreve o grafo top\n",
    "        G_top = llm_mri.get_graph(\"top\")\n",
    "        for n in G_top.nodes:\n",
    "            G_top.nodes[n]['layer'] = int(n.split(\"_\")[0])\n",
    "        nx.write_gml(G_top, 'graphs/' + exp + '_' +  model_name.split('/')[1] + '_' + str(dimension) + '_top.gml')\n",
    "        print(\"Salvo grafo top\")\n",
    "            \n",
    "        # Gera, atribui camadas e escreve o grafo botton\n",
    "        G_botton = llm_mri.get_graph(\"botton\")\n",
    "        for n in G_botton.nodes:\n",
    "            G_botton.nodes[n]['layer'] = int(n.split(\"_\")[0])\n",
    "        nx.write_gml(G_botton, 'graphs/' + exp + '_' +  model_name.split('/')[1] + '_' + str(dimension) + '_botton.gml')\n",
    "        print(\"Salvo grafo botton\")\n",
    "\n",
    "        # Gera, atribui camadas e atribui peso normalizado por classe às arestas\n",
    "        G_composed = llm_mri.get_composed_graph(\"top\", \"botton\")\n",
    "        for n in G_composed.nodes:\n",
    "            G_composed.nodes[n]['layer'] = int(n.split(\"_\")[0])\n",
    "\n",
    "        label1, label2 = [0, 1]\n",
    "        label1_counts = {node: 0 for node in G_composed.nodes()}\n",
    "        label2_counts = {node: 0 for node in G_composed.nodes()}\n",
    "        \n",
    "        for u, v, data in G_composed.edges(data=True):\n",
    "            label = data.get('label')\n",
    "            weight = data.get('weight', 1)  # default weight is 1 if not specified\n",
    "        \n",
    "            if label == label1:\n",
    "                label1_counts[u] += weight\n",
    "                label1_counts[v] += weight\n",
    "            elif label == label2:\n",
    "                label2_counts[u] += weight\n",
    "                label2_counts[v] += weight\n",
    "            else: # label == 2\n",
    "                label1_counts[u] += weight\n",
    "                label1_counts[v] += weight\n",
    "                label2_counts[u] += weight\n",
    "                label2_counts[v] += weight\n",
    "        \n",
    "        # initialize Normalize object to map ratios between 0 and 1\n",
    "        norm = plt.Normalize(vmin=0, vmax=1)\n",
    "        \n",
    "        # compute proportions and assign node colors\n",
    "        node_colors = []\n",
    "        for node in G_composed.nodes():\n",
    "            count_label1 = label1_counts.get(node, 0)\n",
    "            count_label2 = label2_counts.get(node, 0)\n",
    "            total = count_label1 + count_label2\n",
    "        \n",
    "            if total > 0:\n",
    "                ratio = count_label2 / total  # proportion of label2\n",
    "            else:\n",
    "                ratio = 0.5  # neutral ratio if no connected edges\n",
    "        \n",
    "            # normalize the ratio\n",
    "            norm_ratio = norm(ratio)\n",
    "            node_colors.append(norm_ratio)\n",
    "            G_composed.nodes[node]['class'] = norm_ratio\n",
    "        \n",
    "        nx.write_gml(G_composed, 'graphs/' + exp + '_' + model_name.split('/')[1] + '_' + str(dimension) + '_composed.gml')\n",
    "        print(\"Salvo grafo composed\")\n"
   ]
  }
 ],
 "metadata": {
  "kernelspec": {
   "display_name": "Python 3 (ipykernel)",
   "language": "python",
   "name": "python3"
  },
  "language_info": {
   "codemirror_mode": {
    "name": "ipython",
    "version": 3
   },
   "file_extension": ".py",
   "mimetype": "text/x-python",
   "name": "python",
   "nbconvert_exporter": "python",
   "pygments_lexer": "ipython3",
   "version": "3.12.10"
  }
 },
 "nbformat": 4,
 "nbformat_minor": 5
}
